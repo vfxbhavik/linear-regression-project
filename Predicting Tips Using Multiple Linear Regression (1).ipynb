{
 "cells": [
  {
   "cell_type": "markdown",
   "id": "de5a07b8-1edd-4081-8465-ca278141feff",
   "metadata": {},
   "source": [
    "# Project: Predicting Tips Using Multiple Linear Regression\n",
    "\n",
    "## 🔧 Features Used:\n",
    "- total_bill\n",
    "- size\n",
    "- smoker\n",
    "\n",
    "## 📊 Results:\n",
    "- MAE: 0.6674\n",
    "- RMSE: 0.8286\n",
    "- R² Score: 0.4507\n",
    "\n",
    "## ✅ Learnings:\n",
    "- Importance of feature selection\n",
    "- One-hot encoding for nominal data\n",
    "- Model evaluation with regression metrics"
   ]
  },
  {
   "cell_type": "code",
   "execution_count": 27,
   "id": "c2772f5f-4065-474b-af05-fff71e464b51",
   "metadata": {},
   "outputs": [],
   "source": [
    "import seaborn as sns\n",
    "import pandas as pd\n",
    "from sklearn.model_selection import train_test_split\n",
    "from sklearn.linear_model import LinearRegression\n",
    "from sklearn.metrics import mean_absolute_error, mean_squared_error, r2_score\n",
    "import numpy as np\n",
    "import seaborn as sns\n",
    "import pandas as pd\n",
    "from sklearn.model_selection import train_test_split\n",
    "from sklearn.linear_model import LinearRegression\n",
    "from sklearn.metrics import mean_absolute_error, mean_squared_error, r2_score\n",
    "import numpy as np\n"
   ]
  },
  {
   "cell_type": "code",
   "execution_count": 29,
   "id": "417794c3-f2e5-4d4d-93b2-e3d6b7122085",
   "metadata": {},
   "outputs": [],
   "source": [
    "df = sns.load_dataset('tips')"
   ]
  },
  {
   "cell_type": "code",
   "execution_count": 31,
   "id": "a34a11a4-0622-4919-af0e-e400dc9baf05",
   "metadata": {},
   "outputs": [],
   "source": [
    "df_encoded = pd.get_dummies(df, drop_first=True)"
   ]
  },
  {
   "cell_type": "code",
   "execution_count": 33,
   "id": "4d753a22-cf99-475f-8132-df9a270a43af",
   "metadata": {},
   "outputs": [
    {
     "name": "stdout",
     "output_type": "stream",
     "text": [
      "MAE: 0.6674162144694377\n",
      "MSE: 0.6865980620855362\n",
      "RMSE: 0.8286121300617897\n",
      "R² Score: 0.4507089585036145\n"
     ]
    }
   ],
   "source": [
    "# Select features manually\n",
    "selected_features = ['total_bill', 'size', 'smoker_No']\n",
    "\n",
    "X = df_encoded[selected_features]\n",
    "y = df_encoded['tip']\n",
    "\n",
    "# Train-test split\n",
    "X_train, X_test, y_train, y_test = train_test_split(X, y, test_size=0.2, random_state=42)\n",
    "\n",
    "# Model training\n",
    "model = LinearRegression()\n",
    "model.fit(X_train, y_train)\n",
    "\n",
    "# Predictions\n",
    "y_pred = model.predict(X_test)\n",
    "\n",
    "# Evaluation\n",
    "mae = mean_absolute_error(y_test, y_pred)\n",
    "mse = mean_squared_error(y_test, y_pred)\n",
    "rmse = np.sqrt(mse)\n",
    "r2 = r2_score(y_test, y_pred)\n",
    "\n",
    "# Output\n",
    "print(\"MAE:\", mae)\n",
    "print(\"MSE:\", mse)\n",
    "print(\"RMSE:\", rmse)\n",
    "print(\"R² Score:\", r2)\n"
   ]
  }
 ],
 "metadata": {
  "kernelspec": {
   "display_name": "Python [conda env:base] *",
   "language": "python",
   "name": "conda-base-py"
  },
  "language_info": {
   "codemirror_mode": {
    "name": "ipython",
    "version": 3
   },
   "file_extension": ".py",
   "mimetype": "text/x-python",
   "name": "python",
   "nbconvert_exporter": "python",
   "pygments_lexer": "ipython3",
   "version": "3.12.7"
  }
 },
 "nbformat": 4,
 "nbformat_minor": 5
}
